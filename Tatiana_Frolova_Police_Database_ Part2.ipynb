{
 "cells": [
  {
   "cell_type": "markdown",
   "id": "55b2927c",
   "metadata": {},
   "source": [
    "### Tatiana Frolova\n"
   ]
  },
  {
   "cell_type": "markdown",
   "id": "7fedf27f",
   "metadata": {},
   "source": [
    "### Rhode Island Police Database Part 2"
   ]
  },
  {
   "cell_type": "markdown",
   "id": "c65571dd",
   "metadata": {},
   "source": [
    "### Questions:\n",
    "\n",
    "1. Which gender commits more violations? In other words, how many different violations were committed by different gender and what is the conditional probability for different violations committed by gender?\n",
    "\n",
    "2. Who is commonly stopped drug-related and has been arrested by gender? What is the Probability whose vehicle was being stopped related to drugs and arrested by gender?\n"
   ]
  },
  {
   "cell_type": "code",
   "execution_count": 1,
   "id": "d661b933",
   "metadata": {},
   "outputs": [],
   "source": [
    "import pandas as pd\n",
    "import numpy as np\n",
    "import matplotlib.pyplot as plt\n",
    "import seaborn as sns"
   ]
  },
  {
   "cell_type": "markdown",
   "id": "fb9f36e6",
   "metadata": {},
   "source": [
    "### General data characteristics"
   ]
  },
  {
   "cell_type": "code",
   "execution_count": 2,
   "id": "13ac3ded",
   "metadata": {
    "scrolled": true
   },
   "outputs": [
    {
     "data": {
      "text/html": [
       "<div>\n",
       "<style scoped>\n",
       "    .dataframe tbody tr th:only-of-type {\n",
       "        vertical-align: middle;\n",
       "    }\n",
       "\n",
       "    .dataframe tbody tr th {\n",
       "        vertical-align: top;\n",
       "    }\n",
       "\n",
       "    .dataframe thead th {\n",
       "        text-align: right;\n",
       "    }\n",
       "</style>\n",
       "<table border=\"1\" class=\"dataframe\">\n",
       "  <thead>\n",
       "    <tr style=\"text-align: right;\">\n",
       "      <th></th>\n",
       "      <th>state</th>\n",
       "      <th>stop_date</th>\n",
       "      <th>stop_time</th>\n",
       "      <th>county_name</th>\n",
       "      <th>driver_gender</th>\n",
       "      <th>driver_race</th>\n",
       "      <th>violation_raw</th>\n",
       "      <th>violation</th>\n",
       "      <th>search_conducted</th>\n",
       "      <th>search_type</th>\n",
       "      <th>stop_outcome</th>\n",
       "      <th>is_arrested</th>\n",
       "      <th>stop_duration</th>\n",
       "      <th>drugs_related_stop</th>\n",
       "      <th>district</th>\n",
       "    </tr>\n",
       "  </thead>\n",
       "  <tbody>\n",
       "    <tr>\n",
       "      <th>0</th>\n",
       "      <td>RI</td>\n",
       "      <td>1/4/2005</td>\n",
       "      <td>12:55</td>\n",
       "      <td>NaN</td>\n",
       "      <td>M</td>\n",
       "      <td>White</td>\n",
       "      <td>Equipment/Inspection Violation</td>\n",
       "      <td>Equipment</td>\n",
       "      <td>False</td>\n",
       "      <td>NaN</td>\n",
       "      <td>Citation</td>\n",
       "      <td>False</td>\n",
       "      <td>0-15 Min</td>\n",
       "      <td>False</td>\n",
       "      <td>Zone X4</td>\n",
       "    </tr>\n",
       "    <tr>\n",
       "      <th>1</th>\n",
       "      <td>RI</td>\n",
       "      <td>1/23/2005</td>\n",
       "      <td>23:15</td>\n",
       "      <td>NaN</td>\n",
       "      <td>M</td>\n",
       "      <td>White</td>\n",
       "      <td>Speeding</td>\n",
       "      <td>Speeding</td>\n",
       "      <td>False</td>\n",
       "      <td>NaN</td>\n",
       "      <td>Citation</td>\n",
       "      <td>False</td>\n",
       "      <td>0-15 Min</td>\n",
       "      <td>False</td>\n",
       "      <td>Zone K3</td>\n",
       "    </tr>\n",
       "    <tr>\n",
       "      <th>2</th>\n",
       "      <td>RI</td>\n",
       "      <td>2/17/2005</td>\n",
       "      <td>4:15</td>\n",
       "      <td>NaN</td>\n",
       "      <td>M</td>\n",
       "      <td>White</td>\n",
       "      <td>Speeding</td>\n",
       "      <td>Speeding</td>\n",
       "      <td>False</td>\n",
       "      <td>NaN</td>\n",
       "      <td>Citation</td>\n",
       "      <td>False</td>\n",
       "      <td>0-15 Min</td>\n",
       "      <td>False</td>\n",
       "      <td>Zone X4</td>\n",
       "    </tr>\n",
       "    <tr>\n",
       "      <th>3</th>\n",
       "      <td>RI</td>\n",
       "      <td>2/20/2005</td>\n",
       "      <td>17:15</td>\n",
       "      <td>NaN</td>\n",
       "      <td>M</td>\n",
       "      <td>White</td>\n",
       "      <td>Call for Service</td>\n",
       "      <td>Other</td>\n",
       "      <td>False</td>\n",
       "      <td>NaN</td>\n",
       "      <td>Arrest Driver</td>\n",
       "      <td>True</td>\n",
       "      <td>16-30 Min</td>\n",
       "      <td>False</td>\n",
       "      <td>Zone X1</td>\n",
       "    </tr>\n",
       "    <tr>\n",
       "      <th>4</th>\n",
       "      <td>RI</td>\n",
       "      <td>2/24/2005</td>\n",
       "      <td>1:20</td>\n",
       "      <td>NaN</td>\n",
       "      <td>F</td>\n",
       "      <td>White</td>\n",
       "      <td>Speeding</td>\n",
       "      <td>Speeding</td>\n",
       "      <td>False</td>\n",
       "      <td>NaN</td>\n",
       "      <td>Citation</td>\n",
       "      <td>False</td>\n",
       "      <td>0-15 Min</td>\n",
       "      <td>False</td>\n",
       "      <td>Zone X3</td>\n",
       "    </tr>\n",
       "    <tr>\n",
       "      <th>...</th>\n",
       "      <td>...</td>\n",
       "      <td>...</td>\n",
       "      <td>...</td>\n",
       "      <td>...</td>\n",
       "      <td>...</td>\n",
       "      <td>...</td>\n",
       "      <td>...</td>\n",
       "      <td>...</td>\n",
       "      <td>...</td>\n",
       "      <td>...</td>\n",
       "      <td>...</td>\n",
       "      <td>...</td>\n",
       "      <td>...</td>\n",
       "      <td>...</td>\n",
       "      <td>...</td>\n",
       "    </tr>\n",
       "    <tr>\n",
       "      <th>91736</th>\n",
       "      <td>RI</td>\n",
       "      <td>12/31/2015</td>\n",
       "      <td>21:21</td>\n",
       "      <td>NaN</td>\n",
       "      <td>F</td>\n",
       "      <td>Black</td>\n",
       "      <td>Other Traffic Violation</td>\n",
       "      <td>Moving violation</td>\n",
       "      <td>False</td>\n",
       "      <td>NaN</td>\n",
       "      <td>Citation</td>\n",
       "      <td>False</td>\n",
       "      <td>0-15 Min</td>\n",
       "      <td>False</td>\n",
       "      <td>Zone K2</td>\n",
       "    </tr>\n",
       "    <tr>\n",
       "      <th>91737</th>\n",
       "      <td>RI</td>\n",
       "      <td>12/31/2015</td>\n",
       "      <td>21:59</td>\n",
       "      <td>NaN</td>\n",
       "      <td>F</td>\n",
       "      <td>White</td>\n",
       "      <td>Speeding</td>\n",
       "      <td>Speeding</td>\n",
       "      <td>False</td>\n",
       "      <td>NaN</td>\n",
       "      <td>Citation</td>\n",
       "      <td>False</td>\n",
       "      <td>0-15 Min</td>\n",
       "      <td>False</td>\n",
       "      <td>Zone K3</td>\n",
       "    </tr>\n",
       "    <tr>\n",
       "      <th>91738</th>\n",
       "      <td>RI</td>\n",
       "      <td>12/31/2015</td>\n",
       "      <td>22:04</td>\n",
       "      <td>NaN</td>\n",
       "      <td>M</td>\n",
       "      <td>White</td>\n",
       "      <td>Other Traffic Violation</td>\n",
       "      <td>Moving violation</td>\n",
       "      <td>False</td>\n",
       "      <td>NaN</td>\n",
       "      <td>Citation</td>\n",
       "      <td>False</td>\n",
       "      <td>0-15 Min</td>\n",
       "      <td>False</td>\n",
       "      <td>Zone X3</td>\n",
       "    </tr>\n",
       "    <tr>\n",
       "      <th>91739</th>\n",
       "      <td>RI</td>\n",
       "      <td>12/31/2015</td>\n",
       "      <td>22:09</td>\n",
       "      <td>NaN</td>\n",
       "      <td>F</td>\n",
       "      <td>Hispanic</td>\n",
       "      <td>Equipment/Inspection Violation</td>\n",
       "      <td>Equipment</td>\n",
       "      <td>False</td>\n",
       "      <td>NaN</td>\n",
       "      <td>Warning</td>\n",
       "      <td>False</td>\n",
       "      <td>0-15 Min</td>\n",
       "      <td>False</td>\n",
       "      <td>Zone K3</td>\n",
       "    </tr>\n",
       "    <tr>\n",
       "      <th>91740</th>\n",
       "      <td>RI</td>\n",
       "      <td>12/31/2015</td>\n",
       "      <td>22:47</td>\n",
       "      <td>NaN</td>\n",
       "      <td>M</td>\n",
       "      <td>White</td>\n",
       "      <td>Registration Violation</td>\n",
       "      <td>Registration/plates</td>\n",
       "      <td>False</td>\n",
       "      <td>NaN</td>\n",
       "      <td>Citation</td>\n",
       "      <td>False</td>\n",
       "      <td>0-15 Min</td>\n",
       "      <td>False</td>\n",
       "      <td>Zone X4</td>\n",
       "    </tr>\n",
       "  </tbody>\n",
       "</table>\n",
       "<p>91741 rows × 15 columns</p>\n",
       "</div>"
      ],
      "text/plain": [
       "      state   stop_date stop_time  county_name driver_gender driver_race  \\\n",
       "0        RI    1/4/2005     12:55          NaN             M       White   \n",
       "1        RI   1/23/2005     23:15          NaN             M       White   \n",
       "2        RI   2/17/2005      4:15          NaN             M       White   \n",
       "3        RI   2/20/2005     17:15          NaN             M       White   \n",
       "4        RI   2/24/2005      1:20          NaN             F       White   \n",
       "...     ...         ...       ...          ...           ...         ...   \n",
       "91736    RI  12/31/2015     21:21          NaN             F       Black   \n",
       "91737    RI  12/31/2015     21:59          NaN             F       White   \n",
       "91738    RI  12/31/2015     22:04          NaN             M       White   \n",
       "91739    RI  12/31/2015     22:09          NaN             F    Hispanic   \n",
       "91740    RI  12/31/2015     22:47          NaN             M       White   \n",
       "\n",
       "                        violation_raw            violation  search_conducted  \\\n",
       "0      Equipment/Inspection Violation            Equipment             False   \n",
       "1                            Speeding             Speeding             False   \n",
       "2                            Speeding             Speeding             False   \n",
       "3                    Call for Service                Other             False   \n",
       "4                            Speeding             Speeding             False   \n",
       "...                               ...                  ...               ...   \n",
       "91736         Other Traffic Violation     Moving violation             False   \n",
       "91737                        Speeding             Speeding             False   \n",
       "91738         Other Traffic Violation     Moving violation             False   \n",
       "91739  Equipment/Inspection Violation            Equipment             False   \n",
       "91740          Registration Violation  Registration/plates             False   \n",
       "\n",
       "      search_type   stop_outcome is_arrested stop_duration  \\\n",
       "0             NaN       Citation       False      0-15 Min   \n",
       "1             NaN       Citation       False      0-15 Min   \n",
       "2             NaN       Citation       False      0-15 Min   \n",
       "3             NaN  Arrest Driver        True     16-30 Min   \n",
       "4             NaN       Citation       False      0-15 Min   \n",
       "...           ...            ...         ...           ...   \n",
       "91736         NaN       Citation       False      0-15 Min   \n",
       "91737         NaN       Citation       False      0-15 Min   \n",
       "91738         NaN       Citation       False      0-15 Min   \n",
       "91739         NaN        Warning       False      0-15 Min   \n",
       "91740         NaN       Citation       False      0-15 Min   \n",
       "\n",
       "       drugs_related_stop district  \n",
       "0                   False  Zone X4  \n",
       "1                   False  Zone K3  \n",
       "2                   False  Zone X4  \n",
       "3                   False  Zone X1  \n",
       "4                   False  Zone X3  \n",
       "...                   ...      ...  \n",
       "91736               False  Zone K2  \n",
       "91737               False  Zone K3  \n",
       "91738               False  Zone X3  \n",
       "91739               False  Zone K3  \n",
       "91740               False  Zone X4  \n",
       "\n",
       "[91741 rows x 15 columns]"
      ]
     },
     "execution_count": 2,
     "metadata": {},
     "output_type": "execute_result"
    }
   ],
   "source": [
    "# Data Police\n",
    "police = pd.read_csv(\"police.csv\")\n",
    "police"
   ]
  },
  {
   "cell_type": "code",
   "execution_count": 129,
   "id": "90dac87e",
   "metadata": {},
   "outputs": [
    {
     "data": {
      "text/plain": [
       "Index(['state', 'stop_date', 'stop_time', 'county_name', 'driver_gender',\n",
       "       'driver_race', 'violation_raw', 'violation', 'search_conducted',\n",
       "       'search_type', 'stop_outcome', 'is_arrested', 'stop_duration',\n",
       "       'drugs_related_stop', 'district'],\n",
       "      dtype='object')"
      ]
     },
     "execution_count": 129,
     "metadata": {},
     "output_type": "execute_result"
    }
   ],
   "source": [
    "# Colomns\n",
    "police.columns"
   ]
  },
  {
   "cell_type": "code",
   "execution_count": 128,
   "id": "b25abf70",
   "metadata": {
    "scrolled": true
   },
   "outputs": [
    {
     "name": "stdout",
     "output_type": "stream",
     "text": [
      "<class 'pandas.core.frame.DataFrame'>\n",
      "RangeIndex: 91741 entries, 0 to 91740\n",
      "Data columns (total 15 columns):\n",
      " #   Column              Non-Null Count  Dtype  \n",
      "---  ------              --------------  -----  \n",
      " 0   state               91741 non-null  object \n",
      " 1   stop_date           91741 non-null  object \n",
      " 2   stop_time           91741 non-null  object \n",
      " 3   county_name         0 non-null      float64\n",
      " 4   driver_gender       86536 non-null  object \n",
      " 5   driver_race         86539 non-null  object \n",
      " 6   violation_raw       86539 non-null  object \n",
      " 7   violation           86539 non-null  object \n",
      " 8   search_conducted    91741 non-null  bool   \n",
      " 9   search_type         3307 non-null   object \n",
      " 10  stop_outcome        86539 non-null  object \n",
      " 11  is_arrested         86539 non-null  object \n",
      " 12  stop_duration       86539 non-null  object \n",
      " 13  drugs_related_stop  91741 non-null  bool   \n",
      " 14  district            91741 non-null  object \n",
      "dtypes: bool(2), float64(1), object(12)\n",
      "memory usage: 9.3+ MB\n"
     ]
    }
   ],
   "source": [
    "# General info\n",
    "police.info()"
   ]
  },
  {
   "cell_type": "code",
   "execution_count": 126,
   "id": "20b095f3",
   "metadata": {},
   "outputs": [
    {
     "data": {
      "text/plain": [
       "(91741, 15)"
      ]
     },
     "execution_count": 126,
     "metadata": {},
     "output_type": "execute_result"
    }
   ],
   "source": [
    "# Data Shape\n",
    "police.shape"
   ]
  },
  {
   "cell_type": "code",
   "execution_count": 112,
   "id": "1c6ab46e",
   "metadata": {},
   "outputs": [
    {
     "data": {
      "text/plain": [
       "M    62762\n",
       "F    23774\n",
       "Name: driver_gender, dtype: int64"
      ]
     },
     "execution_count": 112,
     "metadata": {},
     "output_type": "execute_result"
    }
   ],
   "source": [
    "# Outcome by gender\n",
    "police[\"driver_gender\"].value_counts()"
   ]
  },
  {
   "cell_type": "code",
   "execution_count": 9,
   "id": "b8c3d2a8",
   "metadata": {},
   "outputs": [
    {
     "data": {
      "image/png": "[encoded data removed]",
      "text/plain": [
       "<Figure size 500x500 with 1 Axes>"
      ]
     },
     "metadata": {},
     "output_type": "display_data"
    }
   ],
   "source": [
    "# Visualization by gender\n",
    "sns.catplot(x= \"driver_gender\",\n",
    "             data= police, \n",
    "             kind= \"count\")\n",
    "plt.title(\"Male VS Female Drivers with Stop outcomes\")\n",
    "plt.show()"
   ]
  },
  {
   "cell_type": "code",
   "execution_count": 110,
   "id": "b2ed2f94",
   "metadata": {},
   "outputs": [
    {
     "data": {
      "text/plain": [
       "White       61872\n",
       "Black       12285\n",
       "Hispanic     9727\n",
       "Asian        2390\n",
       "Other         265\n",
       "Name: driver_race, dtype: int64"
      ]
     },
     "execution_count": 110,
     "metadata": {},
     "output_type": "execute_result"
    }
   ],
   "source": [
    "# Outcome by race\n",
    "police[\"driver_race\"].value_counts()"
   ]
  },
  {
   "cell_type": "code",
   "execution_count": 10,
   "id": "d7cfc4ab",
   "metadata": {
    "scrolled": false
   },
   "outputs": [
    {
     "data": {
      "image/png": "[encoded data removed]",
      "text/plain": [
       "<Figure size 500x500 with 1 Axes>"
      ]
     },
     "metadata": {},
     "output_type": "display_data"
    }
   ],
   "source": [
    "# Visualization by race\n",
    "sns.catplot(x= \"driver_race\",\n",
    "             data= police, \n",
    "             kind= \"count\")\n",
    "plt.title(\"Drivers Race with Stop Outcomes\")\n",
    "plt.show()"
   ]
  },
  {
   "cell_type": "code",
   "execution_count": 34,
   "id": "7bbebbc5",
   "metadata": {},
   "outputs": [
    {
     "data": {
      "text/plain": [
       "Speeding               48424\n",
       "Moving violation       16224\n",
       "Equipment              10922\n",
       "Other                   4410\n",
       "Registration/plates     3703\n",
       "Seat belt               2856\n",
       "Name: violation, dtype: int64"
      ]
     },
     "execution_count": 34,
     "metadata": {},
     "output_type": "execute_result"
    }
   ],
   "source": [
    "# Violation\n",
    "police[\"violation\"].value_counts()"
   ]
  },
  {
   "cell_type": "code",
   "execution_count": 29,
   "id": "6e23f8e7",
   "metadata": {
    "scrolled": false
   },
   "outputs": [
    {
     "data": {
      "image/png": "[encoded data removed]",
      "text/plain": [
       "<Figure size 500x500 with 1 Axes>"
      ]
     },
     "metadata": {},
     "output_type": "display_data"
    }
   ],
   "source": [
    "# Vizualization Stop outcomes by violation \n",
    "sns.catplot(y= \"violation\",\n",
    "             data= police, \n",
    "             kind= \"count\")\n",
    "plt.title(\"Violation\")\n",
    "plt.show()"
   ]
  },
  {
   "cell_type": "code",
   "execution_count": 32,
   "id": "e6d237c0",
   "metadata": {},
   "outputs": [
    {
     "data": {
      "text/plain": [
       "0-15 Min     69579\n",
       "16-30 Min    13740\n",
       "30+ Min       3220\n",
       "Name: stop_duration, dtype: int64"
      ]
     },
     "execution_count": 32,
     "metadata": {},
     "output_type": "execute_result"
    }
   ],
   "source": [
    "# Stop duration times\n",
    "police[\"stop_duration\"].value_counts()"
   ]
  },
  {
   "cell_type": "code",
   "execution_count": 31,
   "id": "e4cec62e",
   "metadata": {},
   "outputs": [
    {
     "data": {
      "image/png": "[encoded data removed]",
      "text/plain": [
       "<Figure size 500x500 with 1 Axes>"
      ]
     },
     "metadata": {},
     "output_type": "display_data"
    }
   ],
   "source": [
    "# Vizualization Stop duration\n",
    "sns.catplot(x = \"stop_duration\",\n",
    "             data= police, \n",
    "             kind= \"count\")\n",
    "plt.title(\"Stop Duration\")\n",
    "plt.show()"
   ]
  },
  {
   "cell_type": "markdown",
   "id": "007e453f",
   "metadata": {},
   "source": [
    "### Question 1. Which gender commits more violations? In other words, how many different violations were committed by different gender and what is the conditional probability for different violations committed by gender?"
   ]
  },
  {
   "cell_type": "markdown",
   "id": "d6c1440c",
   "metadata": {},
   "source": [
    "#### Code to calculate Which gender commit more violations?"
   ]
  },
  {
   "cell_type": "code",
   "execution_count": 3,
   "id": "6beded87",
   "metadata": {},
   "outputs": [],
   "source": [
    "df = police[[\"driver_gender\", \"violation\"]]"
   ]
  },
  {
   "cell_type": "code",
   "execution_count": 4,
   "id": "96fe32c9",
   "metadata": {
    "scrolled": true
   },
   "outputs": [
    {
     "data": {
      "text/plain": [
       "violation            driver_gender\n",
       "Equipment            M                 8420\n",
       "                     F                 2501\n",
       "Moving violation     M                12938\n",
       "                     F                 3286\n",
       "Other                M                 3702\n",
       "                     F                  707\n",
       "Registration/plates  M                 2647\n",
       "                     F                 1056\n",
       "Seat belt            M                 2278\n",
       "                     F                  578\n",
       "Speeding             M                32777\n",
       "                     F                15646\n",
       "Name: driver_gender, dtype: int64"
      ]
     },
     "execution_count": 4,
     "metadata": {},
     "output_type": "execute_result"
    }
   ],
   "source": [
    "# General data, different violetions by genred\n",
    "df_grouped = df.groupby(\"violation\")[\"driver_gender\"].value_counts()\n",
    "df_grouped"
   ]
  },
  {
   "cell_type": "code",
   "execution_count": 10,
   "id": "4f34002f",
   "metadata": {},
   "outputs": [
    {
     "data": {
      "image/png": "[encoded data removed]",
      "text/plain": [
       "<Figure size 708.361x600 with 1 Axes>"
      ]
     },
     "metadata": {},
     "output_type": "display_data"
    }
   ],
   "source": [
    "# Visualization. Violation stop outcomes by gender\n",
    "sns.catplot(y= \"violation\", \n",
    "            data= df, \n",
    "            kind=\"count\",\n",
    "            hue= \"driver_gender\",\n",
    "            height= 6)\n",
    "plt.title(\"Violation stop outcomes by gender\")\n",
    "plt.show()"
   ]
  },
  {
   "cell_type": "code",
   "execution_count": 24,
   "id": "1cba98bc",
   "metadata": {},
   "outputs": [],
   "source": [
    "# Selecting rows for each gender\n",
    "dfF = df.loc[df[\"driver_gender\"] == \"F\"]\n",
    "dfM = df.loc[df[\"driver_gender\"] == \"M\"]"
   ]
  },
  {
   "cell_type": "code",
   "execution_count": 25,
   "id": "40e5f733",
   "metadata": {},
   "outputs": [],
   "source": [
    "# Select violation row\n",
    "equipment = df.loc[df[\"violation\"] == \"Equipment\"]\n",
    "moving = df.loc[df[\"violation\"] == \"Moving violation\"]\n",
    "other = df.loc[df[\"violation\"] == \"Other\"]\n",
    "registranion = df.loc[df[\"violation\"] == \"Registration/plates\"]\n",
    "belt = df.loc[df[\"violation\"] == \"Seat belt\"]\n",
    "speeding = df.loc[df[\"violation\"] == \"Speeding\"]"
   ]
  },
  {
   "cell_type": "code",
   "execution_count": 26,
   "id": "9b461469",
   "metadata": {},
   "outputs": [],
   "source": [
    "# Selecting rows for each of violations for female \n",
    "equipmentF = dfF.loc[dfF[\"violation\"] == \"Equipment\"]\n",
    "movingF = dfF.loc[dfF[\"violation\"] == \"Moving violation\"]\n",
    "otherF = dfF.loc[dfF[\"violation\"] == \"Other\"]\n",
    "registranionF = dfF.loc[dfF[\"violation\"] == \"Registration/plates\"]\n",
    "beltF = dfF.loc[dfF[\"violation\"] == \"Seat belt\"]\n",
    "speedingF = dfF.loc[dfF[\"violation\"] == \"Speeding\"]"
   ]
  },
  {
   "cell_type": "code",
   "execution_count": 27,
   "id": "1301b457",
   "metadata": {},
   "outputs": [],
   "source": [
    "# Selecting rows for each of violations for male \n",
    "equipmentM = dfM.loc[dfM[\"violation\"] == \"Equipment\"]\n",
    "movingM = dfM.loc[dfM[\"violation\"] == \"Moving violation\"]\n",
    "otherM = dfM.loc[dfM[\"violation\"] == \"Other\"]\n",
    "registranionM = dfM.loc[dfM[\"violation\"] == \"Registration/plates\"]\n",
    "beltM = dfM.loc[dfM[\"violation\"] == \"Seat belt\"]\n",
    "speedingM = dfM.loc[dfM[\"violation\"] == \"Speeding\"]"
   ]
  },
  {
   "cell_type": "markdown",
   "id": "c554174f",
   "metadata": {},
   "source": [
    "#### Code to calculate Probability equipment violation by gender"
   ]
  },
  {
   "cell_type": "code",
   "execution_count": 32,
   "id": "9e95f138",
   "metadata": {},
   "outputs": [
    {
     "data": {
      "text/plain": [
       "driver_gender    10921\n",
       "violation        10922\n",
       "dtype: int64"
      ]
     },
     "execution_count": 32,
     "metadata": {},
     "output_type": "execute_result"
    }
   ],
   "source": [
    "# Count total equipment violations\n",
    "count_equipment = equipment.count()\n",
    "count_equipment"
   ]
  },
  {
   "cell_type": "code",
   "execution_count": 33,
   "id": "3709039f",
   "metadata": {},
   "outputs": [
    {
     "data": {
      "text/plain": [
       "driver_gender    2501\n",
       "violation        2501\n",
       "dtype: int64"
      ]
     },
     "execution_count": 33,
     "metadata": {},
     "output_type": "execute_result"
    }
   ],
   "source": [
    "# Count female commit equipment violations\n",
    "count_equipment_female = equipmentF.count()\n",
    "count_equipment_female"
   ]
  },
  {
   "cell_type": "code",
   "execution_count": 34,
   "id": "84aeddc6",
   "metadata": {},
   "outputs": [
    {
     "data": {
      "text/plain": [
       "driver_gender    8420\n",
       "violation        8420\n",
       "dtype: int64"
      ]
     },
     "execution_count": 34,
     "metadata": {},
     "output_type": "execute_result"
    }
   ],
   "source": [
    "# Count male commit equipment violations\n",
    "count_equipment_male = equipmentM.count()\n",
    "count_equipment_male"
   ]
  },
  {
   "cell_type": "code",
   "execution_count": 35,
   "id": "2eb1ed2c",
   "metadata": {},
   "outputs": [
    {
     "data": {
      "text/plain": [
       "driver_gender    22.9\n",
       "violation        22.9\n",
       "dtype: float64"
      ]
     },
     "execution_count": 35,
     "metadata": {},
     "output_type": "execute_result"
    }
   ],
   "source": [
    "# Probability for female\n",
    "probability_equipmet_female = (count_equipment_female/count_equipment) * 100\n",
    "probability_equipmet_female.round(2)"
   ]
  },
  {
   "cell_type": "code",
   "execution_count": 36,
   "id": "16decf4c",
   "metadata": {},
   "outputs": [
    {
     "data": {
      "text/plain": [
       "driver_gender    77.10\n",
       "violation        77.09\n",
       "dtype: float64"
      ]
     },
     "execution_count": 36,
     "metadata": {},
     "output_type": "execute_result"
    }
   ],
   "source": [
    "# Probability for male\n",
    "probability_equipmet_male = (count_equipment_male/count_equipment) * 100\n",
    "probability_equipmet_male.round(2)"
   ]
  },
  {
   "cell_type": "markdown",
   "id": "9d52063f",
   "metadata": {},
   "source": [
    "#### Code to calculate Probability moving violation by gender"
   ]
  },
  {
   "cell_type": "code",
   "execution_count": 28,
   "id": "e6bc34ef",
   "metadata": {},
   "outputs": [
    {
     "data": {
      "text/plain": [
       "driver_gender    16224\n",
       "violation        16224\n",
       "dtype: int64"
      ]
     },
     "execution_count": 28,
     "metadata": {},
     "output_type": "execute_result"
    }
   ],
   "source": [
    "# Count total moving violation\n",
    "count_moving = moving.count()\n",
    "count_moving"
   ]
  },
  {
   "cell_type": "code",
   "execution_count": 30,
   "id": "da8d2d58",
   "metadata": {},
   "outputs": [
    {
     "data": {
      "text/plain": [
       "driver_gender    3286\n",
       "violation        3286\n",
       "dtype: int64"
      ]
     },
     "execution_count": 30,
     "metadata": {},
     "output_type": "execute_result"
    }
   ],
   "source": [
    "# Count female commit moving violation\n",
    "count_moving_female = movingF.count()\n",
    "count_moving_female"
   ]
  },
  {
   "cell_type": "code",
   "execution_count": 31,
   "id": "2cf8d35c",
   "metadata": {},
   "outputs": [
    {
     "data": {
      "text/plain": [
       "driver_gender    12938\n",
       "violation        12938\n",
       "dtype: int64"
      ]
     },
     "execution_count": 31,
     "metadata": {},
     "output_type": "execute_result"
    }
   ],
   "source": [
    "# Count male commit moving violation\n",
    "count_moving_male = movingM.count()\n",
    "count_moving_male"
   ]
  },
  {
   "cell_type": "code",
   "execution_count": 39,
   "id": "25cab673",
   "metadata": {},
   "outputs": [
    {
     "data": {
      "text/plain": [
       "driver_gender    20.25\n",
       "violation        20.25\n",
       "dtype: float64"
      ]
     },
     "execution_count": 39,
     "metadata": {},
     "output_type": "execute_result"
    }
   ],
   "source": [
    "# Probability for female\n",
    "probability_moving_female = (count_moving_female/count_moving) * 100\n",
    "probability_moving_female.round(2)"
   ]
  },
  {
   "cell_type": "code",
   "execution_count": 40,
   "id": "7669b0e3",
   "metadata": {},
   "outputs": [
    {
     "data": {
      "text/plain": [
       "driver_gender    79.75\n",
       "violation        79.75\n",
       "dtype: float64"
      ]
     },
     "execution_count": 40,
     "metadata": {},
     "output_type": "execute_result"
    }
   ],
   "source": [
    "# Probability for male\n",
    "probability_moving_male = (count_moving_male/count_moving) * 100\n",
    "probability_moving_male.round(2)"
   ]
  },
  {
   "cell_type": "markdown",
   "id": "930f73c7",
   "metadata": {},
   "source": [
    "#### Code to calculate Probability other violations by gender"
   ]
  },
  {
   "cell_type": "code",
   "execution_count": 41,
   "id": "4b9533b5",
   "metadata": {},
   "outputs": [
    {
     "data": {
      "text/plain": [
       "driver_gender    4409\n",
       "violation        4410\n",
       "dtype: int64"
      ]
     },
     "execution_count": 41,
     "metadata": {},
     "output_type": "execute_result"
    }
   ],
   "source": [
    "# Count total moving violation\n",
    "count_other = other.count()\n",
    "count_other"
   ]
  },
  {
   "cell_type": "code",
   "execution_count": 42,
   "id": "578274da",
   "metadata": {},
   "outputs": [
    {
     "data": {
      "text/plain": [
       "driver_gender    707\n",
       "violation        707\n",
       "dtype: int64"
      ]
     },
     "execution_count": 42,
     "metadata": {},
     "output_type": "execute_result"
    }
   ],
   "source": [
    "# Count female commit other violations\n",
    "count_other_female = otherF.count()\n",
    "count_other_female"
   ]
  },
  {
   "cell_type": "code",
   "execution_count": 43,
   "id": "08771d05",
   "metadata": {},
   "outputs": [
    {
     "data": {
      "text/plain": [
       "driver_gender    3702\n",
       "violation        3702\n",
       "dtype: int64"
      ]
     },
     "execution_count": 43,
     "metadata": {},
     "output_type": "execute_result"
    }
   ],
   "source": [
    "# Count male commit other violations\n",
    "count_other_male = otherM.count()\n",
    "count_other_male"
   ]
  },
  {
   "cell_type": "code",
   "execution_count": 47,
   "id": "0db97e6f",
   "metadata": {},
   "outputs": [
    {
     "data": {
      "text/plain": [
       "driver_gender    16.04\n",
       "violation        16.03\n",
       "dtype: float64"
      ]
     },
     "execution_count": 47,
     "metadata": {},
     "output_type": "execute_result"
    }
   ],
   "source": [
    "# Probability for female\n",
    "probability_other_female = (count_other_female/count_other) * 100\n",
    "probability_other_female.round(2)"
   ]
  },
  {
   "cell_type": "code",
   "execution_count": 45,
   "id": "f8460d30",
   "metadata": {},
   "outputs": [
    {
     "data": {
      "text/plain": [
       "driver_gender    83.96\n",
       "violation        83.95\n",
       "dtype: float64"
      ]
     },
     "execution_count": 45,
     "metadata": {},
     "output_type": "execute_result"
    }
   ],
   "source": [
    "# Probability for male\n",
    "probability_other_male = (count_other_male/count_other) * 100\n",
    "probability_other_male.round(1)"
   ]
  },
  {
   "cell_type": "markdown",
   "id": "9efda907",
   "metadata": {},
   "source": [
    "#### Code to calculate Probability registranion violations by gender"
   ]
  },
  {
   "cell_type": "code",
   "execution_count": 54,
   "id": "b668e5db",
   "metadata": {},
   "outputs": [
    {
     "data": {
      "text/plain": [
       "driver_gender    3703\n",
       "violation        3703\n",
       "dtype: int64"
      ]
     },
     "execution_count": 54,
     "metadata": {},
     "output_type": "execute_result"
    }
   ],
   "source": [
    "# Count total registranion violations\n",
    "count_registranion = registranion.count()\n",
    "count_registranion"
   ]
  },
  {
   "cell_type": "code",
   "execution_count": 55,
   "id": "8496f15a",
   "metadata": {},
   "outputs": [
    {
     "data": {
      "text/plain": [
       "driver_gender    1056\n",
       "violation        1056\n",
       "dtype: int64"
      ]
     },
     "execution_count": 55,
     "metadata": {},
     "output_type": "execute_result"
    }
   ],
   "source": [
    "# Count female commit registraniong violations\n",
    "count_registranion_female = registranionF.count()\n",
    "count_registranion_female"
   ]
  },
  {
   "cell_type": "code",
   "execution_count": 56,
   "id": "3e54629c",
   "metadata": {},
   "outputs": [
    {
     "data": {
      "text/plain": [
       "driver_gender    2647\n",
       "violation        2647\n",
       "dtype: int64"
      ]
     },
     "execution_count": 56,
     "metadata": {},
     "output_type": "execute_result"
    }
   ],
   "source": [
    "# Count male commit registranion violations\n",
    "count_registranion_male = registranionM.count()\n",
    "count_registranion_male"
   ]
  },
  {
   "cell_type": "code",
   "execution_count": 57,
   "id": "bd6a3441",
   "metadata": {},
   "outputs": [
    {
     "data": {
      "text/plain": [
       "driver_gender    28.52\n",
       "violation        28.52\n",
       "dtype: float64"
      ]
     },
     "execution_count": 57,
     "metadata": {},
     "output_type": "execute_result"
    }
   ],
   "source": [
    "# Probability for female\n",
    "probability_registranion_female = (count_registranion_female/count_registranion) * 100\n",
    "probability_registranion_female.round(2)"
   ]
  },
  {
   "cell_type": "code",
   "execution_count": 58,
   "id": "73b41f4a",
   "metadata": {},
   "outputs": [
    {
     "data": {
      "text/plain": [
       "driver_gender    71.48\n",
       "violation        71.48\n",
       "dtype: float64"
      ]
     },
     "execution_count": 58,
     "metadata": {},
     "output_type": "execute_result"
    }
   ],
   "source": [
    "# Probability for male\n",
    "probability_registranion_male = (count_registranion_male/count_registranion) * 100\n",
    "probability_registranion_male.round(2)"
   ]
  },
  {
   "cell_type": "markdown",
   "id": "531aa4ac",
   "metadata": {},
   "source": [
    "#### Code to calculate Probability seat belt violations by gender"
   ]
  },
  {
   "cell_type": "code",
   "execution_count": 59,
   "id": "9716a0d9",
   "metadata": {},
   "outputs": [
    {
     "data": {
      "text/plain": [
       "driver_gender    2856\n",
       "violation        2856\n",
       "dtype: int64"
      ]
     },
     "execution_count": 59,
     "metadata": {},
     "output_type": "execute_result"
    }
   ],
   "source": [
    "# Count total seat belt violations\n",
    "count_belt = belt.count()\n",
    "count_belt"
   ]
  },
  {
   "cell_type": "code",
   "execution_count": 60,
   "id": "f977e8cd",
   "metadata": {},
   "outputs": [
    {
     "data": {
      "text/plain": [
       "driver_gender    578\n",
       "violation        578\n",
       "dtype: int64"
      ]
     },
     "execution_count": 60,
     "metadata": {},
     "output_type": "execute_result"
    }
   ],
   "source": [
    "# Count female commit seat belt violations\n",
    "count_belt_female = beltF.count()\n",
    "count_belt_female"
   ]
  },
  {
   "cell_type": "code",
   "execution_count": 61,
   "id": "d8346fb0",
   "metadata": {},
   "outputs": [
    {
     "data": {
      "text/plain": [
       "driver_gender    2278\n",
       "violation        2278\n",
       "dtype: int64"
      ]
     },
     "execution_count": 61,
     "metadata": {},
     "output_type": "execute_result"
    }
   ],
   "source": [
    "# Count male commit seat belt violations\n",
    "count_belt_male = beltM.count()\n",
    "count_belt_male"
   ]
  },
  {
   "cell_type": "code",
   "execution_count": 62,
   "id": "888d7054",
   "metadata": {},
   "outputs": [
    {
     "data": {
      "text/plain": [
       "driver_gender    20.24\n",
       "violation        20.24\n",
       "dtype: float64"
      ]
     },
     "execution_count": 62,
     "metadata": {},
     "output_type": "execute_result"
    }
   ],
   "source": [
    "# Probability for female\n",
    "probability_belt_female = (count_belt_female/count_belt) * 100\n",
    "probability_belt_female.round(2)"
   ]
  },
  {
   "cell_type": "code",
   "execution_count": 63,
   "id": "a43f435b",
   "metadata": {},
   "outputs": [
    {
     "data": {
      "text/plain": [
       "driver_gender    79.76\n",
       "violation        79.76\n",
       "dtype: float64"
      ]
     },
     "execution_count": 63,
     "metadata": {},
     "output_type": "execute_result"
    }
   ],
   "source": [
    "# Probability for male\n",
    "probability_belt_male = (count_belt_male/count_belt) * 100\n",
    "probability_belt_male.round(2)"
   ]
  },
  {
   "cell_type": "markdown",
   "id": "84734988",
   "metadata": {},
   "source": [
    "#### Code to calculate Probability speeding violations by gender"
   ]
  },
  {
   "cell_type": "code",
   "execution_count": 64,
   "id": "f26495eb",
   "metadata": {},
   "outputs": [
    {
     "data": {
      "text/plain": [
       "driver_gender    48423\n",
       "violation        48424\n",
       "dtype: int64"
      ]
     },
     "execution_count": 64,
     "metadata": {},
     "output_type": "execute_result"
    }
   ],
   "source": [
    "# Count total speeding violations\n",
    "count_speeding = speeding.count()\n",
    "count_speeding"
   ]
  },
  {
   "cell_type": "code",
   "execution_count": 65,
   "id": "f7384cb3",
   "metadata": {},
   "outputs": [
    {
     "data": {
      "text/plain": [
       "driver_gender    15646\n",
       "violation        15646\n",
       "dtype: int64"
      ]
     },
     "execution_count": 65,
     "metadata": {},
     "output_type": "execute_result"
    }
   ],
   "source": [
    "# Count female commit speeding violations\n",
    "count_speeding_female = speedingF.count()\n",
    "count_speeding_female"
   ]
  },
  {
   "cell_type": "code",
   "execution_count": 66,
   "id": "6b75be87",
   "metadata": {},
   "outputs": [
    {
     "data": {
      "text/plain": [
       "driver_gender    32777\n",
       "violation        32777\n",
       "dtype: int64"
      ]
     },
     "execution_count": 66,
     "metadata": {},
     "output_type": "execute_result"
    }
   ],
   "source": [
    "# Count male commit speeding violations\n",
    "count_speeding_male = speedingM.count()\n",
    "count_speeding_male"
   ]
  },
  {
   "cell_type": "code",
   "execution_count": 67,
   "id": "e7c60ad8",
   "metadata": {},
   "outputs": [
    {
     "data": {
      "text/plain": [
       "driver_gender    32.31\n",
       "violation        32.31\n",
       "dtype: float64"
      ]
     },
     "execution_count": 67,
     "metadata": {},
     "output_type": "execute_result"
    }
   ],
   "source": [
    "# Probability for female\n",
    "probability_speeding_female = (count_speeding_female/count_speeding) * 100\n",
    "probability_speeding_female.round(2)"
   ]
  },
  {
   "cell_type": "code",
   "execution_count": 68,
   "id": "b61e374c",
   "metadata": {},
   "outputs": [
    {
     "data": {
      "text/plain": [
       "driver_gender    67.69\n",
       "violation        67.69\n",
       "dtype: float64"
      ]
     },
     "execution_count": 68,
     "metadata": {},
     "output_type": "execute_result"
    }
   ],
   "source": [
    "# Probability for male\n",
    "probability_speeding_male = (count_speeding_male/count_speeding) * 100\n",
    "probability_speeding_male.round(2)"
   ]
  },
  {
   "cell_type": "markdown",
   "id": "e986aecb",
   "metadata": {},
   "source": [
    "#### Summary & Conclusion\n",
    "Based on the statistical analysis we recived results:\n",
    "##### Count diffrent violations by gender:\n",
    "* Equipment violations commited by male 8420 times\n",
    "* Equipment violations commited by female 2501 times\n",
    "* Moving violations commited by male 12938 times\n",
    "* Moving violations commited by female 3286 times\n",
    "* Other violations commited by male 3702 times\n",
    "* Other violations commited by female 707 times\n",
    "* Registration/plates violations commited by male 2647 times\n",
    "* Registration/plates violations commited by female 1056 times\n",
    "* Seat belt violations commited by male 2278 times\n",
    "* Seat belt violations commited by female 578 times\n",
    "* Speeding violations commited by male 32777 times\n",
    "* Speeding violations commited by female 15646 times\n",
    "\n",
    "##### Probability of commited violations by gender:\n",
    "* Probability that females commit an equipment violation is 22.9 % and males is 77.1 %\n",
    "* Probability that females commit moving violation is 20.25 % and males is 79.75 %\n",
    "* Probability that females drivers commit other violations is 16.04 % and males is 83.96 %\n",
    "* Probability that females commit registranion violations is 28.52 % and males is 71.48%\n",
    "* Probability that females commit seat belt violations is 20.24 % and males is 79.76 %\n",
    "* Probability that females commit speeding violations is 32.31 % and males is 67.69 %\n",
    "\n",
    "We conclude that overal males commit to more violations because male violation probability is higher that females at each violation, however females commit hight % of speeding violations and registration violations compared to other violations."
   ]
  },
  {
   "cell_type": "markdown",
   "id": "00284bd4",
   "metadata": {},
   "source": [
    "### Question 2. Who is commonly stopped drug-related and has been arrested by gender? What is the Probability whose vehicle was being stopped related to drugs and arrested by gender?"
   ]
  },
  {
   "cell_type": "markdown",
   "id": "f941dd98",
   "metadata": {},
   "source": [
    "#### Code calculateing count vehicles stopped related to drugs and arrested by gender"
   ]
  },
  {
   "cell_type": "code",
   "execution_count": 46,
   "id": "0c815d40",
   "metadata": {
    "scrolled": true
   },
   "outputs": [
    {
     "data": {
      "text/html": [
       "<div>\n",
       "<style scoped>\n",
       "    .dataframe tbody tr th:only-of-type {\n",
       "        vertical-align: middle;\n",
       "    }\n",
       "\n",
       "    .dataframe tbody tr th {\n",
       "        vertical-align: top;\n",
       "    }\n",
       "\n",
       "    .dataframe thead th {\n",
       "        text-align: right;\n",
       "    }\n",
       "</style>\n",
       "<table border=\"1\" class=\"dataframe\">\n",
       "  <thead>\n",
       "    <tr style=\"text-align: right;\">\n",
       "      <th></th>\n",
       "      <th>state</th>\n",
       "      <th>stop_date</th>\n",
       "      <th>stop_time</th>\n",
       "      <th>county_name</th>\n",
       "      <th>driver_gender</th>\n",
       "      <th>driver_race</th>\n",
       "      <th>violation_raw</th>\n",
       "      <th>violation</th>\n",
       "      <th>search_conducted</th>\n",
       "      <th>search_type</th>\n",
       "      <th>stop_outcome</th>\n",
       "      <th>is_arrested</th>\n",
       "      <th>stop_duration</th>\n",
       "      <th>drugs_related_stop</th>\n",
       "      <th>district</th>\n",
       "    </tr>\n",
       "  </thead>\n",
       "  <tbody>\n",
       "    <tr>\n",
       "      <th>0</th>\n",
       "      <td>RI</td>\n",
       "      <td>1/4/2005</td>\n",
       "      <td>12:55</td>\n",
       "      <td>NaN</td>\n",
       "      <td>M</td>\n",
       "      <td>White</td>\n",
       "      <td>Equipment/Inspection Violation</td>\n",
       "      <td>Equipment</td>\n",
       "      <td>False</td>\n",
       "      <td>NaN</td>\n",
       "      <td>Citation</td>\n",
       "      <td>False</td>\n",
       "      <td>0-15 Min</td>\n",
       "      <td>False</td>\n",
       "      <td>Zone X4</td>\n",
       "    </tr>\n",
       "    <tr>\n",
       "      <th>1</th>\n",
       "      <td>RI</td>\n",
       "      <td>1/23/2005</td>\n",
       "      <td>23:15</td>\n",
       "      <td>NaN</td>\n",
       "      <td>M</td>\n",
       "      <td>White</td>\n",
       "      <td>Speeding</td>\n",
       "      <td>Speeding</td>\n",
       "      <td>False</td>\n",
       "      <td>NaN</td>\n",
       "      <td>Citation</td>\n",
       "      <td>False</td>\n",
       "      <td>0-15 Min</td>\n",
       "      <td>False</td>\n",
       "      <td>Zone K3</td>\n",
       "    </tr>\n",
       "    <tr>\n",
       "      <th>2</th>\n",
       "      <td>RI</td>\n",
       "      <td>2/17/2005</td>\n",
       "      <td>4:15</td>\n",
       "      <td>NaN</td>\n",
       "      <td>M</td>\n",
       "      <td>White</td>\n",
       "      <td>Speeding</td>\n",
       "      <td>Speeding</td>\n",
       "      <td>False</td>\n",
       "      <td>NaN</td>\n",
       "      <td>Citation</td>\n",
       "      <td>False</td>\n",
       "      <td>0-15 Min</td>\n",
       "      <td>False</td>\n",
       "      <td>Zone X4</td>\n",
       "    </tr>\n",
       "  </tbody>\n",
       "</table>\n",
       "</div>"
      ],
      "text/plain": [
       "  state  stop_date stop_time  county_name driver_gender driver_race  \\\n",
       "0    RI   1/4/2005     12:55          NaN             M       White   \n",
       "1    RI  1/23/2005     23:15          NaN             M       White   \n",
       "2    RI  2/17/2005      4:15          NaN             M       White   \n",
       "\n",
       "                    violation_raw  violation  search_conducted search_type  \\\n",
       "0  Equipment/Inspection Violation  Equipment             False         NaN   \n",
       "1                        Speeding   Speeding             False         NaN   \n",
       "2                        Speeding   Speeding             False         NaN   \n",
       "\n",
       "  stop_outcome is_arrested stop_duration  drugs_related_stop district  \n",
       "0     Citation       False      0-15 Min               False  Zone X4  \n",
       "1     Citation       False      0-15 Min               False  Zone K3  \n",
       "2     Citation       False      0-15 Min               False  Zone X4  "
      ]
     },
     "execution_count": 46,
     "metadata": {},
     "output_type": "execute_result"
    }
   ],
   "source": [
    "police.head(3)"
   ]
  },
  {
   "cell_type": "code",
   "execution_count": 47,
   "id": "1edde51b",
   "metadata": {},
   "outputs": [
    {
     "data": {
      "text/html": [
       "<div>\n",
       "<style scoped>\n",
       "    .dataframe tbody tr th:only-of-type {\n",
       "        vertical-align: middle;\n",
       "    }\n",
       "\n",
       "    .dataframe tbody tr th {\n",
       "        vertical-align: top;\n",
       "    }\n",
       "\n",
       "    .dataframe thead th {\n",
       "        text-align: right;\n",
       "    }\n",
       "</style>\n",
       "<table border=\"1\" class=\"dataframe\">\n",
       "  <thead>\n",
       "    <tr style=\"text-align: right;\">\n",
       "      <th></th>\n",
       "      <th>driver_gender</th>\n",
       "      <th>stop_outcome</th>\n",
       "      <th>drugs_related_stop</th>\n",
       "    </tr>\n",
       "  </thead>\n",
       "  <tbody>\n",
       "    <tr>\n",
       "      <th>0</th>\n",
       "      <td>M</td>\n",
       "      <td>Citation</td>\n",
       "      <td>False</td>\n",
       "    </tr>\n",
       "    <tr>\n",
       "      <th>1</th>\n",
       "      <td>M</td>\n",
       "      <td>Citation</td>\n",
       "      <td>False</td>\n",
       "    </tr>\n",
       "    <tr>\n",
       "      <th>2</th>\n",
       "      <td>M</td>\n",
       "      <td>Citation</td>\n",
       "      <td>False</td>\n",
       "    </tr>\n",
       "  </tbody>\n",
       "</table>\n",
       "</div>"
      ],
      "text/plain": [
       "  driver_gender stop_outcome  drugs_related_stop\n",
       "0             M     Citation               False\n",
       "1             M     Citation               False\n",
       "2             M     Citation               False"
      ]
     },
     "execution_count": 47,
     "metadata": {},
     "output_type": "execute_result"
    }
   ],
   "source": [
    "# select a new dataframe\n",
    "da= police[[\"driver_gender\", \"stop_outcome\", \"drugs_related_stop\"]]\n",
    "da.head(3)"
   ]
  },
  {
   "cell_type": "code",
   "execution_count": 49,
   "id": "5527e70c",
   "metadata": {},
   "outputs": [
    {
     "data": {
      "text/plain": [
       "M    755\n",
       "F    107\n",
       "Name: driver_gender, dtype: int64"
      ]
     },
     "execution_count": 49,
     "metadata": {},
     "output_type": "execute_result"
    }
   ],
   "source": [
    "# Count drivers who stopped drug related \n",
    "drug = da[da[\"drugs_related_stop\"] == True].driver_gender.value_counts() \n",
    "drug"
   ]
  },
  {
   "cell_type": "code",
   "execution_count": 50,
   "id": "d90049a2",
   "metadata": {},
   "outputs": [
    {
     "data": {
      "text/plain": [
       "M    2179\n",
       "F     556\n",
       "Name: driver_gender, dtype: int64"
      ]
     },
     "execution_count": 50,
     "metadata": {},
     "output_type": "execute_result"
    }
   ],
   "source": [
    "# Count drivers who got arrested\n",
    "arrested = da[da[\"stop_outcome\"] == \"Arrest Driver\"].driver_gender.value_counts()\n",
    "arrested"
   ]
  },
  {
   "cell_type": "code",
   "execution_count": 51,
   "id": "f2c01d1e",
   "metadata": {},
   "outputs": [],
   "source": [
    "# drivers who stopped drug related and arrested \n",
    "drug = da[\"drugs_related_stop\"] == True\n",
    "arrested = da[\"stop_outcome\"] == \"Arrest Driver\"\n",
    "drug_arrest = da[(drug) & (arrested)].driver_gender.value_counts()"
   ]
  },
  {
   "cell_type": "code",
   "execution_count": 52,
   "id": "ec2f090f",
   "metadata": {},
   "outputs": [
    {
     "data": {
      "text/plain": [
       "M    167\n",
       "F     24\n",
       "Name: driver_gender, dtype: int64"
      ]
     },
     "execution_count": 52,
     "metadata": {},
     "output_type": "execute_result"
    }
   ],
   "source": [
    "# Count drivers got arrested who drug related stopped\n",
    "drug_arrest"
   ]
  },
  {
   "cell_type": "code",
   "execution_count": 54,
   "id": "c76e9de4",
   "metadata": {},
   "outputs": [
    {
     "data": {
      "image/png": "[encoded data removed]",
      "text/plain": [
       "<Figure size 640x480 with 1 Axes>"
      ]
     },
     "metadata": {},
     "output_type": "display_data"
    }
   ],
   "source": [
    "drug_arrest.plot(kind =\"bar\", title = \"Vehicles have been stop drug related and driver has been arrested by driver gender\")\n",
    "plt.xlabel(\"Gender\")\n",
    "plt.ylabel(\"Outcomes\")\n",
    "plt.show()"
   ]
  },
  {
   "cell_type": "markdown",
   "id": "8f303407",
   "metadata": {},
   "source": [
    "#### Code to calculating probability for drivers who got stop drug related and got arrested"
   ]
  },
  {
   "cell_type": "code",
   "execution_count": 53,
   "id": "e1b34ea5",
   "metadata": {},
   "outputs": [
    {
     "data": {
      "text/plain": [
       "driver_gender         191\n",
       "stop_outcome          191\n",
       "drugs_related_stop    191\n",
       "dtype: int64"
      ]
     },
     "execution_count": 53,
     "metadata": {},
     "output_type": "execute_result"
    }
   ],
   "source": [
    "# Count drivers were stopped drug related and arrested\n",
    "count_drug_arrested = da.loc[(da[\"drugs_related_stop\"] == True) & (da[\"stop_outcome\"] == \"Arrest Driver\")].count()\n",
    "count_drug_arrested"
   ]
  },
  {
   "cell_type": "code",
   "execution_count": 54,
   "id": "1613bc6c",
   "metadata": {},
   "outputs": [],
   "source": [
    "# Rows for male and female\n",
    "da_male = da.loc[da[\"driver_gender\"] == \"M\"]\n",
    "da_female = da.loc[da[\"driver_gender\"] == \"F\"]"
   ]
  },
  {
   "cell_type": "code",
   "execution_count": 56,
   "id": "6949ef78",
   "metadata": {},
   "outputs": [
    {
     "data": {
      "text/plain": [
       "driver_gender         167\n",
       "stop_outcome          167\n",
       "drugs_related_stop    167\n",
       "dtype: int64"
      ]
     },
     "execution_count": 56,
     "metadata": {},
     "output_type": "execute_result"
    }
   ],
   "source": [
    "# count male drivers who got stoped related to drugs and arrested\n",
    "count_drug_arrested_male = da_male.loc[(da_male[\"drugs_related_stop\"] == True) & (da_male[\"stop_outcome\"] == \"Arrest Driver\")].count()\n",
    "count_drug_arrested_male"
   ]
  },
  {
   "cell_type": "code",
   "execution_count": 57,
   "id": "0dac805a",
   "metadata": {},
   "outputs": [
    {
     "data": {
      "text/plain": [
       "driver_gender         24\n",
       "stop_outcome          24\n",
       "drugs_related_stop    24\n",
       "dtype: int64"
      ]
     },
     "execution_count": 57,
     "metadata": {},
     "output_type": "execute_result"
    }
   ],
   "source": [
    "# count female drivers who got stoped related to drugs and arrested\n",
    "count_drug_arrested_female = da_female.loc[(da_female[\"drugs_related_stop\"] == True) & (da_female[\"stop_outcome\"] == \"Arrest Driver\")].count()\n",
    "count_drug_arrested_female"
   ]
  },
  {
   "cell_type": "code",
   "execution_count": 58,
   "id": "f2adb400",
   "metadata": {},
   "outputs": [
    {
     "data": {
      "text/plain": [
       "driver_gender         87.43\n",
       "stop_outcome          87.43\n",
       "drugs_related_stop    87.43\n",
       "dtype: float64"
      ]
     },
     "execution_count": 58,
     "metadata": {},
     "output_type": "execute_result"
    }
   ],
   "source": [
    "# Probability drug related stops and male driver got arrested\n",
    "probability_drug_arrested_male = (count_drug_arrested_male/count_drug_arrested) * 100\n",
    "probability_drug_arrested_male.round(2)"
   ]
  },
  {
   "cell_type": "code",
   "execution_count": 59,
   "id": "6f59df28",
   "metadata": {},
   "outputs": [
    {
     "data": {
      "text/plain": [
       "driver_gender         12.57\n",
       "stop_outcome          12.57\n",
       "drugs_related_stop    12.57\n",
       "dtype: float64"
      ]
     },
     "execution_count": 59,
     "metadata": {},
     "output_type": "execute_result"
    }
   ],
   "source": [
    "# Probability drug related stops and female driver got arrested\n",
    "probability_drug_arrested_female = (count_drug_arrested_female/count_drug_arrested) * 100\n",
    "probability_drug_arrested_female.round(2)"
   ]
  },
  {
   "cell_type": "markdown",
   "id": "d4f734ea",
   "metadata": {},
   "source": [
    "#### Summary & Conclusion\n",
    "Based on the statistical analysis we recived results:\n",
    "##### Count drivers stopped drug related by gender:\n",
    "* 755 male drivers stopped drug related\n",
    "* 107 female drivers stopped drug related\n",
    "\n",
    "##### Count drivers got arrested by gender:\n",
    "* 2179 male drivers got arrested\n",
    "* 556 female drivers got arrested\n",
    "\n",
    "##### Count drivers got arrested to drug related stops by gender:\n",
    "* 167 male drivers got arrested to drug related stops\n",
    "* 24 female drivers got arrested to drug related stops\n",
    "\n",
    "##### Probability drivers got arrested to drug related stops by gender:\n",
    "* Probability that males drivers got arrested to drug related stops 87.43%\n",
    "* Probability that female  12.57%\n",
    "\n",
    "We conclude that overall males got more commonly stopped drug related and male got commonly arrested than females. Male got commonly arrested to drug related stops than females because the probability extrimely higher that females."
   ]
  },
  {
   "cell_type": "code",
   "execution_count": null,
   "id": "aa797b01",
   "metadata": {},
   "outputs": [],
   "source": []
  }
 ],
 "metadata": {
  "kernelspec": {
   "display_name": "Python 3 (ipykernel)",
   "language": "python",
   "name": "python3"
  },
  "language_info": {
   "codemirror_mode": {
    "name": "ipython",
    "version": 3
   },
   "file_extension": ".py",
   "mimetype": "text/x-python",
   "name": "python",
   "nbconvert_exporter": "python",
   "pygments_lexer": "ipython3",
   "version": "3.11.4"
  }
 },
 "nbformat": 4,
 "nbformat_minor": 5
}
